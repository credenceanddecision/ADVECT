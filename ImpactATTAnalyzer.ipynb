{
  "nbformat": 4,
  "nbformat_minor": 0,
  "metadata": {
    "colab": {
      "provenance": [],
      "collapsed_sections": [
        "rK7BmV7c2GhO"
      ]
    },
    "kernelspec": {
      "name": "python3",
      "display_name": "Python 3"
    }
  },
  "cells": [
    {
      "cell_type": "markdown",
      "source": [
        "# Impact_ATT_Analyzer"
      ],
      "metadata": {
        "id": "_R9sbmXx2MD-"
      }
    },
    {
      "cell_type": "markdown",
      "source": [
        "## Import libraries"
      ],
      "metadata": {
        "id": "rK7BmV7c2GhO"
      }
    },
    {
      "cell_type": "code",
      "source": [
        "!pip install -q causalinference"
      ],
      "metadata": {
        "colab": {
          "base_uri": "https://localhost:8080/"
        },
        "id": "FKQjmiEZ7s3-",
        "outputId": "22c66d22-926b-4910-f8da-abdb569f9e7a"
      },
      "execution_count": 3,
      "outputs": [
        {
          "output_type": "stream",
          "name": "stdout",
          "text": [
            "\u001b[?25l     \u001b[90m━━━━━━━━━━━━━━━━━━━━━━━━━━━━━━━━━━━━━━━━\u001b[0m \u001b[32m0.0/51.1 kB\u001b[0m \u001b[31m?\u001b[0m eta \u001b[36m-:--:--\u001b[0m\r\u001b[2K     \u001b[90m━━━━━━━━━━━━━━━━━━━━━━━━━━━━━━━━━━━━━━━━\u001b[0m \u001b[32m51.1/51.1 kB\u001b[0m \u001b[31m2.2 MB/s\u001b[0m eta \u001b[36m0:00:00\u001b[0m\n",
            "\u001b[?25h"
          ]
        }
      ]
    },
    {
      "cell_type": "code",
      "source": [
        "!pip install -q statsmodels"
      ],
      "metadata": {
        "id": "tnrbhcV8-G9o"
      },
      "execution_count": 5,
      "outputs": []
    },
    {
      "cell_type": "code",
      "metadata": {
        "id": "3CShQ-M6gGnx"
      },
      "source": [
        "import pandas as pd\n",
        "import statsmodels.api as sm\n",
        "from scipy import stats\n",
        "import numpy as np\n",
        "from sklearn.neighbors import KNeighborsRegressor\n",
        "from statsmodels.stats.power import TTestIndPower\n",
        "\n",
        "from causalinference import CausalModel"
      ],
      "execution_count": 6,
      "outputs": []
    },
    {
      "cell_type": "code",
      "source": [
        "import matplotlib.pyplot as plt\n",
        "plt.style.use('bmh')"
      ],
      "metadata": {
        "id": "ilIKufGMEcNr"
      },
      "execution_count": 43,
      "outputs": []
    },
    {
      "cell_type": "markdown",
      "source": [
        "## Power analysis"
      ],
      "metadata": {
        "id": "o3GZMoPc2TXR"
      }
    },
    {
      "cell_type": "code",
      "source": [
        "# Parameters for power analysis\n",
        "effect_size = 0.15  # Small effect size; adjust based on expected campaign impact.\n",
        "alpha = 0.05  # Significance level\n",
        "power = 0.8  # Desired power\n",
        "ratio = 1  # Ratio of sample sizes in the two groups (control and treatment)\n",
        "\n",
        "# Create a power analysis object\n",
        "analysis = TTestIndPower()\n",
        "\n",
        "# Calculate sample size\n",
        "sample_size = analysis.solve_power(effect_size=effect_size, power=power, alpha=alpha, ratio=ratio, alternative='two-sided')\n",
        "\n",
        "print(f\"Required sample size: {sample_size:.0f}\")"
      ],
      "metadata": {
        "colab": {
          "base_uri": "https://localhost:8080/"
        },
        "id": "dWhDp4qIxsnu",
        "outputId": "017e3e69-ad52-4c6d-c894-fe84c5a768d6"
      },
      "execution_count": 8,
      "outputs": [
        {
          "output_type": "stream",
          "name": "stdout",
          "text": [
            "Required sample size: 699\n"
          ]
        }
      ]
    },
    {
      "cell_type": "code",
      "metadata": {
        "id": "LlNTXFb1yOgS"
      },
      "source": [
        "import requests\n",
        "import io\n",
        "url=\"https://github.com/credenceanddecision/ImpactATTAnalyzer/blob/main/ImpactATTAnalyzer_demo_data.csv\"\n",
        "\n",
        "s=requests.get(url).content\n",
        "df=pd.read_csv(io.StringIO(s.decode('utf-8')))\n",
        "\n",
        "#df=pd.read_csv(\"ImpactATTAnalyzer_demo_data.csv\")"
      ],
      "execution_count": 59,
      "outputs": []
    },
    {
      "cell_type": "code",
      "metadata": {
        "id": "AxASTzaeZEup"
      },
      "source": [
        "df['ddigital_engagement_level']=np.where(df['digital_engagement_level']==1,1,0)"
      ],
      "execution_count": 60,
      "outputs": []
    },
    {
      "cell_type": "markdown",
      "metadata": {
        "id": "ZRO_QZ1IaBkt"
      },
      "source": [
        "Variable description\n",
        "\n",
        "Synthetic data was used for the purpose of this exercise.\n",
        "\n",
        "| Variable                       | Description |\n",
        "|--------------------------------|-------------|\n",
        "| **ad_exposure_wine_club**      | Dummy = 1 if any member of the household was exposed to the wine club advertising campaign. |\n",
        "| **wine_club_signup**           | Dummy = 1 if the household signed up for the wine club membership after exposure. |\n",
        "| **digital_engagement_level**   | Dummy = 1 if the household engages with wine-related content online, indicating comfort with technology and online purchases. |\n",
        "| **household_wine_spending**    |  Index (0, 100) indicating the estimated  amount spent on wine annually by the household, to gauge purchasing power and interest in premium products. |\n",
        "| **wine_preference_diversity**  | Dummy = 1 if the household shows interest in a diverse range of wines, which could indicate openness to wine club offerings. |\n",
        "| **previous_wine_purchase_online** | Dummy = 1 if the household has previously purchased wine online, indicating readiness to buy wine through the wine club. |\n",
        "| **premium_wine_interest**      | Index (0, 100) indicating the estimated propensity of the household in terms of premium or specialist wine consumption preferences. |\n",
        "\n",
        "\n"
      ]
    },
    {
      "cell_type": "code",
      "metadata": {
        "id": "o5XP7fAagc0Z"
      },
      "source": [
        "df=df.dropna()"
      ],
      "execution_count": 13,
      "outputs": []
    },
    {
      "cell_type": "markdown",
      "metadata": {
        "id": "35w6FE8Cgnlt"
      },
      "source": [
        "This function calculates the difference in the average premium wine interest between households that signed up for the wine club (wine_club_signup == 1) and those that did not (wine_club_signup == 0). This difference suggests the impact of wine club membership on households' interest in premium wines."
      ]
    },
    {
      "cell_type": "code",
      "metadata": {
        "id": "6NrVr9riaTBK",
        "colab": {
          "base_uri": "https://localhost:8080/"
        },
        "outputId": "3529f08a-bd80-445b-ccc6-454bef6549e3"
      },
      "source": [
        "df.loc[df.wine_club_signup==1].premium_wine_interest.mean()-df.loc[df.wine_club_signup==0].premium_wine_interest.mean()"
      ],
      "execution_count": 14,
      "outputs": [
        {
          "output_type": "execute_result",
          "data": {
            "text/plain": [
              "0.4600905485030822"
            ]
          },
          "metadata": {},
          "execution_count": 14
        }
      ]
    },
    {
      "cell_type": "markdown",
      "metadata": {
        "id": "YUnI65PMBl23"
      },
      "source": [
        "We verify if there are differences in the observable characteristics.\"\n",
        "\n",
        "This line introduces a function that iterates over a list of variables to compare the mean values between two groups (those who signed up for the wine club and those who did not) for each variable. It calculates the difference in means and conducts a t-test to check for statistical significance, helping to understand if the groups differ significantly in aspects like digital engagement level, household wine spending, and other listed characteristics.\n"
      ]
    },
    {
      "cell_type": "code",
      "metadata": {
        "id": "ZtnMo51uzGqz",
        "colab": {
          "base_uri": "https://localhost:8080/"
        },
        "outputId": "605fc97a-f589-4857-df7c-2786dda6f96b"
      },
      "source": [
        "for variable in ['digital_engagement_level','household_wine_spending','wine_preference_diversity','previous_wine_purchase_online','premium_wine_interest']:\n",
        "  var_treatment=df[variable].loc[(df.wine_club_signup==1) ]\n",
        "  var_control=df[variable].loc[(df.wine_club_signup==0) ]\n",
        "  print(variable)\n",
        "  print('dif: ',var_treatment.mean()-var_control.mean())\n",
        "  resultttest=stats.ttest_ind(var_treatment, var_control, equal_var=True)\n",
        "  print('statistic', resultttest.statistic, 'pvalue', resultttest.pvalue)"
      ],
      "execution_count": 15,
      "outputs": [
        {
          "output_type": "stream",
          "name": "stdout",
          "text": [
            "digital_engagement_level\n",
            "dif:  -0.05521250187722515\n",
            "statistic -1.719232478184535 pvalue 0.08602847406088131\n",
            "household_wine_spending\n",
            "dif:  -1.7637346619669785\n",
            "statistic -1.6104955667968843 pvalue 0.10775514575570697\n",
            "wine_preference_diversity\n",
            "dif:  0.01103366637514469\n",
            "statistic 0.2927470358392724 pvalue 0.7698050836431898\n",
            "previous_wine_purchase_online\n",
            "dif:  0.02386063481126166\n",
            "statistic 0.6280556602531941 pvalue 0.530178966057371\n",
            "premium_wine_interest\n",
            "dif:  0.4600905485030822\n",
            "statistic 0.22710101603902716 pvalue 0.8204136524471637\n"
          ]
        }
      ]
    },
    {
      "cell_type": "markdown",
      "metadata": {
        "id": "JyKygcbi-ac9"
      },
      "source": [
        "## Recovering the ATT using the CIA\n",
        "For an initial example, we assume that controlling for the household digital engagement level is sufficient to eliminate potential selection bias. The proposed estimator is:\n",
        "\n",
        "$$ATT=E[Y_{1i}∣T_{i}=1]-E[Y_{0i}∣T_{i}=1]=\\sum_x\\delta_xP(X_i=x|T_i=1)$$"
      ]
    },
    {
      "cell_type": "code",
      "metadata": {
        "id": "jh6W3T0D1y7V",
        "colab": {
          "base_uri": "https://localhost:8080/"
        },
        "outputId": "c8527cd9-6b5f-4809-f1bc-5e7445829efe"
      },
      "source": [
        "# Diferences in wine_preference_diversity\n",
        "\n",
        "dif_people=df.loc[(df.wine_club_signup==1)& (df.digital_engagement_level==1)].premium_wine_interest.mean() \\\n",
        "-df.loc[(df.wine_club_signup==0)&(df.digital_engagement_level==1)].premium_wine_interest.mean()\n",
        "print('dif_people ',dif_people)\n",
        "\n",
        "# Diferences in previous_wine_purchase_online\n",
        "\n",
        "dif_signups=df.loc[(df.wine_club_signup==1)& (df.digital_engagement_level==2)].premium_wine_interest.mean() \\\n",
        "-df.loc[(df.wine_club_signup==0)&(df.digital_engagement_level==2)].premium_wine_interest.mean()\n",
        "print('dif_signups ',dif_signups)\n"
      ],
      "execution_count": 16,
      "outputs": [
        {
          "output_type": "stream",
          "name": "stdout",
          "text": [
            "dif_people  -1.3953167877320283\n",
            "dif_signups  6.574401913875597\n"
          ]
        }
      ]
    },
    {
      "cell_type": "code",
      "metadata": {
        "id": "64dThVBC8UOI",
        "colab": {
          "base_uri": "https://localhost:8080/"
        },
        "outputId": "4e43e6d5-fee6-4e93-fd85-385d2086c28d"
      },
      "source": [
        "total_people=df.loc[(df.digital_engagement_level==1) ].shape[0]\n",
        "total_signups= df.loc[(df.digital_engagement_level==2)].shape[0]\n",
        "print('total people  ', total_people, ', total signups ', total_signups)\n",
        "\n",
        "\n",
        "total_people_treatment=df.loc[(df.digital_engagement_level==1) & (df.wine_club_signup==1)].shape[0]\n",
        "total_signups_treated= df.loc[(df.digital_engagement_level==2) & (df.wine_club_signup==1)].shape[0]\n",
        "print('total people treatment ', total_people_treatment, ', total signups treated ', total_signups_treated)"
      ],
      "execution_count": 19,
      "outputs": [
        {
          "output_type": "stream",
          "name": "stdout",
          "text": [
            "total people   530 , total signups  150\n",
            "total people treatment  236 , total signups treated  55\n"
          ]
        }
      ]
    },
    {
      "cell_type": "code",
      "metadata": {
        "id": "YUB_m7mN8eDv",
        "colab": {
          "base_uri": "https://localhost:8080/"
        },
        "outputId": "e0501403-367a-41a4-baae-6226e755ec28"
      },
      "source": [
        "# ATT\n",
        "(dif_people*total_people_treatment+dif_signups*total_signups_treated)/(total_people_treatment + total_signups_treated)"
      ],
      "execution_count": 22,
      "outputs": [
        {
          "output_type": "execute_result",
          "data": {
            "text/plain": [
              "0.11098743422130306"
            ]
          },
          "metadata": {},
          "execution_count": 22
        }
      ]
    },
    {
      "cell_type": "code",
      "metadata": {
        "id": "hyng7-e0BA7e",
        "colab": {
          "base_uri": "https://localhost:8080/"
        },
        "outputId": "a2c869b9-d7c9-47a7-d1ad-a3051443c638"
      },
      "source": [
        "# ATE\n",
        "(dif_people*total_people+dif_signups*total_signups)/(total_people + total_signups)"
      ],
      "execution_count": 24,
      "outputs": [
        {
          "output_type": "execute_result",
          "data": {
            "text/plain": [
              "0.3627093964461243"
            ]
          },
          "metadata": {},
          "execution_count": 24
        }
      ]
    },
    {
      "cell_type": "code",
      "metadata": {
        "id": "RjwcxE5LTs3f",
        "colab": {
          "base_uri": "https://localhost:8080/"
        },
        "outputId": "86776687-57bd-4576-e8e0-4c3ca6708e08"
      },
      "source": [
        "df.premium_wine_interest.mean()"
      ],
      "execution_count": 25,
      "outputs": [
        {
          "output_type": "execute_result",
          "data": {
            "text/plain": [
              "56.868691176470584"
            ]
          },
          "metadata": {},
          "execution_count": 25
        }
      ]
    },
    {
      "cell_type": "markdown",
      "metadata": {
        "id": "_MCgAgfsMC9V"
      },
      "source": [
        "## Matching Algorithm\n",
        "\n",
        "For the Average Treatment Effect on the Treated (ATT), the concept involves pairing each treated subject with a control subject based on all observable characteristics. We plan to use a function from the sklearn library that identifies and returns the most similar observation based on a set of characteristics. The K-neighbors method is generally used for predictions, and here it is adapted for our specific interest."
      ]
    },
    {
      "cell_type": "code",
      "metadata": {
        "id": "_hsQTzQ-NGDA"
      },
      "source": [
        "# Let's call X the list of variables to be considered for matching\n",
        "X=['ddigital_engagement_level', 'household_wine_spending', 'wine_preference_diversity', 'previous_wine_purchase_online']"
      ],
      "execution_count": 31,
      "outputs": []
    },
    {
      "cell_type": "code",
      "metadata": {
        "id": "YmkR2iwfIrlp"
      },
      "source": [
        "# Separating Wine Club Signups and Non-Signups\n",
        "# We split the observations into those who signed up for the wine club and those who did not.\n",
        "wine_club_signups = df.loc[(df.wine_club_signup==1)]\n",
        "nowine_club_signups = df.loc[(df.wine_club_signup==0)]"
      ],
      "execution_count": 32,
      "outputs": []
    },
    {
      "cell_type": "code",
      "source": [
        "# KNeighborsRegressor requires training a model to learn to find the result for a 'non-wine club signup' when asked to predict one.\n",
        "# This 'training' is equivalent to fitting our regression model.\n",
        "modelo_no_wine_club_signups = KNeighborsRegressor(n_neighbors=1).fit(nowine_club_signups[X], nowine_club_signups.premium_wine_interest)"
      ],
      "metadata": {
        "id": "VaLhaDMlDAzR"
      },
      "execution_count": 33,
      "outputs": []
    },
    {
      "cell_type": "code",
      "source": [
        "# We train a model on non-wine club signups to predict the premium wine interest for these groups and then assigned each wine club signup a matching non-wine club signup based on the prediction.\n",
        "# Finally, I calculated the mean difference in premium wine interest between the matched groups.\n",
        "df_matched=wine_club_signups.assign(matchnowine_club_signup=modelo_no_wine_club_signups.predict(wine_club_signups[X]))\n",
        "df_matched"
      ],
      "metadata": {
        "id": "Ye3gol7UDCVI"
      },
      "execution_count": null,
      "outputs": []
    },
    {
      "cell_type": "code",
      "metadata": {
        "id": "rLTS76y0Qn_B",
        "colab": {
          "base_uri": "https://localhost:8080/"
        },
        "outputId": "8d0b9ad1-ad75-4619-8388-08c0df2c0439"
      },
      "source": [
        "np.mean(df_matched.premium_wine_interest-df_matched.matchnowine_club_signup)"
      ],
      "execution_count": 35,
      "outputs": [
        {
          "output_type": "execute_result",
          "data": {
            "text/plain": [
              "-1.5839862542955325"
            ]
          },
          "metadata": {},
          "execution_count": 35
        }
      ]
    },
    {
      "cell_type": "markdown",
      "metadata": {
        "id": "hPlfWxUBYRtf"
      },
      "source": [
        "## Propensity Score Matching\n",
        "\n",
        "This concept introduces the use of propensity scores in the matching process, similar to previous methods, but here the matching is based on the probability."
      ]
    },
    {
      "cell_type": "code",
      "metadata": {
        "id": "lkIAgI1hYP4F"
      },
      "source": [
        "def logit(lista, data):\n",
        "  \"\"\"\n",
        "  Function that performs the Logit regression\n",
        "  The first variable in the list is the dependent one, the rest are explanatory. 'data' is the database.\n",
        "  \"\"\"\n",
        "  dates=data[lista]\n",
        "  # The dropna() method allows me to remove rows that contain any missing values.\n",
        "  dates=dates.dropna()\n",
        "  Y=dates[lista[0]]\n",
        "  X=dates[lista[1:]]\n",
        "  X=sm.add_constant(X)\n",
        "  modelo=sm.Logit(Y,X)\n",
        "  modeloajustado=modelo.fit()\n",
        "  print(modeloajustado.summary())\n",
        "  return modeloajustado"
      ],
      "execution_count": 39,
      "outputs": []
    },
    {
      "cell_type": "code",
      "metadata": {
        "id": "x3hS8B6WYWLq",
        "colab": {
          "base_uri": "https://localhost:8080/"
        },
        "outputId": "0115fe0d-5b21-4e92-ea4f-61874432571d"
      },
      "source": [
        "modelo=logit(['wine_club_signup','ddigital_engagement_level', 'household_wine_spending', 'wine_preference_diversity', 'previous_wine_purchase_online'], data=df)\n",
        "df['probabilities']=modelo.predict()"
      ],
      "execution_count": 40,
      "outputs": [
        {
          "output_type": "stream",
          "name": "stdout",
          "text": [
            "Optimization terminated successfully.\n",
            "         Current function value: 0.677889\n",
            "         Iterations 5\n",
            "                           Logit Regression Results                           \n",
            "==============================================================================\n",
            "Dep. Variable:       wine_club_signup   No. Observations:                  680\n",
            "Model:                          Logit   Df Residuals:                      675\n",
            "Method:                           MLE   Df Model:                            4\n",
            "Date:                Sat, 03 Feb 2024   Pseudo R-squ.:                0.007085\n",
            "Time:                        22:21:59   Log-Likelihood:                -460.96\n",
            "converged:                       True   LL-Null:                       -464.25\n",
            "Covariance Type:            nonrobust   LLR p-value:                    0.1599\n",
            "=================================================================================================\n",
            "                                    coef    std err          z      P>|z|      [0.025      0.975]\n",
            "-------------------------------------------------------------------------------------------------\n",
            "const                            -0.0410      0.374     -0.110      0.913      -0.773       0.691\n",
            "ddigital_engagement_level         0.3343      0.215      1.552      0.121      -0.088       0.756\n",
            "household_wine_spending          -0.0082      0.006     -1.419      0.156      -0.020       0.003\n",
            "wine_preference_diversity        -0.8099      0.681     -1.190      0.234      -2.144       0.524\n",
            "previous_wine_purchase_online     0.6776      0.681      0.996      0.319      -0.656       2.011\n",
            "=================================================================================================\n"
          ]
        }
      ]
    },
    {
      "cell_type": "code",
      "metadata": {
        "id": "FxgmH18TZZX-",
        "colab": {
          "base_uri": "https://localhost:8080/",
          "height": 226
        },
        "outputId": "368fbcac-dd47-430f-d49e-9ab4c9edefab"
      },
      "source": [
        "df.head()"
      ],
      "execution_count": 41,
      "outputs": [
        {
          "output_type": "execute_result",
          "data": {
            "text/plain": [
              "   random_id  ad_exposure_wine_club  wine_club_signup  \\\n",
              "0          1                      0                 0   \n",
              "1          2                      1                 1   \n",
              "2          3                      0                 0   \n",
              "3          4                      1                 1   \n",
              "4          5                      0                 0   \n",
              "\n",
              "   digital_engagement_level  household_wine_spending  \\\n",
              "0                         1                     37.0   \n",
              "1                         1                     45.0   \n",
              "2                         1                     50.0   \n",
              "3                         1                     54.0   \n",
              "4                         2                     66.0   \n",
              "\n",
              "   wine_preference_diversity  previous_wine_purchase_online  \\\n",
              "0                        1.0                            1.0   \n",
              "1                        0.0                            0.0   \n",
              "2                        1.0                            1.0   \n",
              "3                        1.0                            1.0   \n",
              "4                        0.0                            0.0   \n",
              "\n",
              "   premium_wine_interest  ddigital_engagement_level  probabilities  \n",
              "0                  39.98                          1       0.464043  \n",
              "1                  57.14                          1       0.480581  \n",
              "2                  85.71                          1       0.437514  \n",
              "3                  85.71                          1       0.429416  \n",
              "4                  66.65                          0       0.357759  "
            ],
            "text/html": [
              "\n",
              "  <div id=\"df-5d876809-9497-4846-9c5b-d38111fc4f51\" class=\"colab-df-container\">\n",
              "    <div>\n",
              "<style scoped>\n",
              "    .dataframe tbody tr th:only-of-type {\n",
              "        vertical-align: middle;\n",
              "    }\n",
              "\n",
              "    .dataframe tbody tr th {\n",
              "        vertical-align: top;\n",
              "    }\n",
              "\n",
              "    .dataframe thead th {\n",
              "        text-align: right;\n",
              "    }\n",
              "</style>\n",
              "<table border=\"1\" class=\"dataframe\">\n",
              "  <thead>\n",
              "    <tr style=\"text-align: right;\">\n",
              "      <th></th>\n",
              "      <th>random_id</th>\n",
              "      <th>ad_exposure_wine_club</th>\n",
              "      <th>wine_club_signup</th>\n",
              "      <th>digital_engagement_level</th>\n",
              "      <th>household_wine_spending</th>\n",
              "      <th>wine_preference_diversity</th>\n",
              "      <th>previous_wine_purchase_online</th>\n",
              "      <th>premium_wine_interest</th>\n",
              "      <th>ddigital_engagement_level</th>\n",
              "      <th>probabilities</th>\n",
              "    </tr>\n",
              "  </thead>\n",
              "  <tbody>\n",
              "    <tr>\n",
              "      <th>0</th>\n",
              "      <td>1</td>\n",
              "      <td>0</td>\n",
              "      <td>0</td>\n",
              "      <td>1</td>\n",
              "      <td>37.0</td>\n",
              "      <td>1.0</td>\n",
              "      <td>1.0</td>\n",
              "      <td>39.98</td>\n",
              "      <td>1</td>\n",
              "      <td>0.464043</td>\n",
              "    </tr>\n",
              "    <tr>\n",
              "      <th>1</th>\n",
              "      <td>2</td>\n",
              "      <td>1</td>\n",
              "      <td>1</td>\n",
              "      <td>1</td>\n",
              "      <td>45.0</td>\n",
              "      <td>0.0</td>\n",
              "      <td>0.0</td>\n",
              "      <td>57.14</td>\n",
              "      <td>1</td>\n",
              "      <td>0.480581</td>\n",
              "    </tr>\n",
              "    <tr>\n",
              "      <th>2</th>\n",
              "      <td>3</td>\n",
              "      <td>0</td>\n",
              "      <td>0</td>\n",
              "      <td>1</td>\n",
              "      <td>50.0</td>\n",
              "      <td>1.0</td>\n",
              "      <td>1.0</td>\n",
              "      <td>85.71</td>\n",
              "      <td>1</td>\n",
              "      <td>0.437514</td>\n",
              "    </tr>\n",
              "    <tr>\n",
              "      <th>3</th>\n",
              "      <td>4</td>\n",
              "      <td>1</td>\n",
              "      <td>1</td>\n",
              "      <td>1</td>\n",
              "      <td>54.0</td>\n",
              "      <td>1.0</td>\n",
              "      <td>1.0</td>\n",
              "      <td>85.71</td>\n",
              "      <td>1</td>\n",
              "      <td>0.429416</td>\n",
              "    </tr>\n",
              "    <tr>\n",
              "      <th>4</th>\n",
              "      <td>5</td>\n",
              "      <td>0</td>\n",
              "      <td>0</td>\n",
              "      <td>2</td>\n",
              "      <td>66.0</td>\n",
              "      <td>0.0</td>\n",
              "      <td>0.0</td>\n",
              "      <td>66.65</td>\n",
              "      <td>0</td>\n",
              "      <td>0.357759</td>\n",
              "    </tr>\n",
              "  </tbody>\n",
              "</table>\n",
              "</div>\n",
              "    <div class=\"colab-df-buttons\">\n",
              "\n",
              "  <div class=\"colab-df-container\">\n",
              "    <button class=\"colab-df-convert\" onclick=\"convertToInteractive('df-5d876809-9497-4846-9c5b-d38111fc4f51')\"\n",
              "            title=\"Convert this dataframe to an interactive table.\"\n",
              "            style=\"display:none;\">\n",
              "\n",
              "  <svg xmlns=\"http://www.w3.org/2000/svg\" height=\"24px\" viewBox=\"0 -960 960 960\">\n",
              "    <path d=\"M120-120v-720h720v720H120Zm60-500h600v-160H180v160Zm220 220h160v-160H400v160Zm0 220h160v-160H400v160ZM180-400h160v-160H180v160Zm440 0h160v-160H620v160ZM180-180h160v-160H180v160Zm440 0h160v-160H620v160Z\"/>\n",
              "  </svg>\n",
              "    </button>\n",
              "\n",
              "  <style>\n",
              "    .colab-df-container {\n",
              "      display:flex;\n",
              "      gap: 12px;\n",
              "    }\n",
              "\n",
              "    .colab-df-convert {\n",
              "      background-color: #E8F0FE;\n",
              "      border: none;\n",
              "      border-radius: 50%;\n",
              "      cursor: pointer;\n",
              "      display: none;\n",
              "      fill: #1967D2;\n",
              "      height: 32px;\n",
              "      padding: 0 0 0 0;\n",
              "      width: 32px;\n",
              "    }\n",
              "\n",
              "    .colab-df-convert:hover {\n",
              "      background-color: #E2EBFA;\n",
              "      box-shadow: 0px 1px 2px rgba(60, 64, 67, 0.3), 0px 1px 3px 1px rgba(60, 64, 67, 0.15);\n",
              "      fill: #174EA6;\n",
              "    }\n",
              "\n",
              "    .colab-df-buttons div {\n",
              "      margin-bottom: 4px;\n",
              "    }\n",
              "\n",
              "    [theme=dark] .colab-df-convert {\n",
              "      background-color: #3B4455;\n",
              "      fill: #D2E3FC;\n",
              "    }\n",
              "\n",
              "    [theme=dark] .colab-df-convert:hover {\n",
              "      background-color: #434B5C;\n",
              "      box-shadow: 0px 1px 3px 1px rgba(0, 0, 0, 0.15);\n",
              "      filter: drop-shadow(0px 1px 2px rgba(0, 0, 0, 0.3));\n",
              "      fill: #FFFFFF;\n",
              "    }\n",
              "  </style>\n",
              "\n",
              "    <script>\n",
              "      const buttonEl =\n",
              "        document.querySelector('#df-5d876809-9497-4846-9c5b-d38111fc4f51 button.colab-df-convert');\n",
              "      buttonEl.style.display =\n",
              "        google.colab.kernel.accessAllowed ? 'block' : 'none';\n",
              "\n",
              "      async function convertToInteractive(key) {\n",
              "        const element = document.querySelector('#df-5d876809-9497-4846-9c5b-d38111fc4f51');\n",
              "        const dataTable =\n",
              "          await google.colab.kernel.invokeFunction('convertToInteractive',\n",
              "                                                    [key], {});\n",
              "        if (!dataTable) return;\n",
              "\n",
              "        const docLinkHtml = 'Like what you see? Visit the ' +\n",
              "          '<a target=\"_blank\" href=https://colab.research.google.com/notebooks/data_table.ipynb>data table notebook</a>'\n",
              "          + ' to learn more about interactive tables.';\n",
              "        element.innerHTML = '';\n",
              "        dataTable['output_type'] = 'display_data';\n",
              "        await google.colab.output.renderOutput(dataTable, element);\n",
              "        const docLink = document.createElement('div');\n",
              "        docLink.innerHTML = docLinkHtml;\n",
              "        element.appendChild(docLink);\n",
              "      }\n",
              "    </script>\n",
              "  </div>\n",
              "\n",
              "\n",
              "<div id=\"df-eeceac5c-a03e-47f0-b7b7-392dd8fc2d9a\">\n",
              "  <button class=\"colab-df-quickchart\" onclick=\"quickchart('df-eeceac5c-a03e-47f0-b7b7-392dd8fc2d9a')\"\n",
              "            title=\"Suggest charts\"\n",
              "            style=\"display:none;\">\n",
              "\n",
              "<svg xmlns=\"http://www.w3.org/2000/svg\" height=\"24px\"viewBox=\"0 0 24 24\"\n",
              "     width=\"24px\">\n",
              "    <g>\n",
              "        <path d=\"M19 3H5c-1.1 0-2 .9-2 2v14c0 1.1.9 2 2 2h14c1.1 0 2-.9 2-2V5c0-1.1-.9-2-2-2zM9 17H7v-7h2v7zm4 0h-2V7h2v10zm4 0h-2v-4h2v4z\"/>\n",
              "    </g>\n",
              "</svg>\n",
              "  </button>\n",
              "\n",
              "<style>\n",
              "  .colab-df-quickchart {\n",
              "      --bg-color: #E8F0FE;\n",
              "      --fill-color: #1967D2;\n",
              "      --hover-bg-color: #E2EBFA;\n",
              "      --hover-fill-color: #174EA6;\n",
              "      --disabled-fill-color: #AAA;\n",
              "      --disabled-bg-color: #DDD;\n",
              "  }\n",
              "\n",
              "  [theme=dark] .colab-df-quickchart {\n",
              "      --bg-color: #3B4455;\n",
              "      --fill-color: #D2E3FC;\n",
              "      --hover-bg-color: #434B5C;\n",
              "      --hover-fill-color: #FFFFFF;\n",
              "      --disabled-bg-color: #3B4455;\n",
              "      --disabled-fill-color: #666;\n",
              "  }\n",
              "\n",
              "  .colab-df-quickchart {\n",
              "    background-color: var(--bg-color);\n",
              "    border: none;\n",
              "    border-radius: 50%;\n",
              "    cursor: pointer;\n",
              "    display: none;\n",
              "    fill: var(--fill-color);\n",
              "    height: 32px;\n",
              "    padding: 0;\n",
              "    width: 32px;\n",
              "  }\n",
              "\n",
              "  .colab-df-quickchart:hover {\n",
              "    background-color: var(--hover-bg-color);\n",
              "    box-shadow: 0 1px 2px rgba(60, 64, 67, 0.3), 0 1px 3px 1px rgba(60, 64, 67, 0.15);\n",
              "    fill: var(--button-hover-fill-color);\n",
              "  }\n",
              "\n",
              "  .colab-df-quickchart-complete:disabled,\n",
              "  .colab-df-quickchart-complete:disabled:hover {\n",
              "    background-color: var(--disabled-bg-color);\n",
              "    fill: var(--disabled-fill-color);\n",
              "    box-shadow: none;\n",
              "  }\n",
              "\n",
              "  .colab-df-spinner {\n",
              "    border: 2px solid var(--fill-color);\n",
              "    border-color: transparent;\n",
              "    border-bottom-color: var(--fill-color);\n",
              "    animation:\n",
              "      spin 1s steps(1) infinite;\n",
              "  }\n",
              "\n",
              "  @keyframes spin {\n",
              "    0% {\n",
              "      border-color: transparent;\n",
              "      border-bottom-color: var(--fill-color);\n",
              "      border-left-color: var(--fill-color);\n",
              "    }\n",
              "    20% {\n",
              "      border-color: transparent;\n",
              "      border-left-color: var(--fill-color);\n",
              "      border-top-color: var(--fill-color);\n",
              "    }\n",
              "    30% {\n",
              "      border-color: transparent;\n",
              "      border-left-color: var(--fill-color);\n",
              "      border-top-color: var(--fill-color);\n",
              "      border-right-color: var(--fill-color);\n",
              "    }\n",
              "    40% {\n",
              "      border-color: transparent;\n",
              "      border-right-color: var(--fill-color);\n",
              "      border-top-color: var(--fill-color);\n",
              "    }\n",
              "    60% {\n",
              "      border-color: transparent;\n",
              "      border-right-color: var(--fill-color);\n",
              "    }\n",
              "    80% {\n",
              "      border-color: transparent;\n",
              "      border-right-color: var(--fill-color);\n",
              "      border-bottom-color: var(--fill-color);\n",
              "    }\n",
              "    90% {\n",
              "      border-color: transparent;\n",
              "      border-bottom-color: var(--fill-color);\n",
              "    }\n",
              "  }\n",
              "</style>\n",
              "\n",
              "  <script>\n",
              "    async function quickchart(key) {\n",
              "      const quickchartButtonEl =\n",
              "        document.querySelector('#' + key + ' button');\n",
              "      quickchartButtonEl.disabled = true;  // To prevent multiple clicks.\n",
              "      quickchartButtonEl.classList.add('colab-df-spinner');\n",
              "      try {\n",
              "        const charts = await google.colab.kernel.invokeFunction(\n",
              "            'suggestCharts', [key], {});\n",
              "      } catch (error) {\n",
              "        console.error('Error during call to suggestCharts:', error);\n",
              "      }\n",
              "      quickchartButtonEl.classList.remove('colab-df-spinner');\n",
              "      quickchartButtonEl.classList.add('colab-df-quickchart-complete');\n",
              "    }\n",
              "    (() => {\n",
              "      let quickchartButtonEl =\n",
              "        document.querySelector('#df-eeceac5c-a03e-47f0-b7b7-392dd8fc2d9a button');\n",
              "      quickchartButtonEl.style.display =\n",
              "        google.colab.kernel.accessAllowed ? 'block' : 'none';\n",
              "    })();\n",
              "  </script>\n",
              "</div>\n",
              "    </div>\n",
              "  </div>\n"
            ]
          },
          "metadata": {},
          "execution_count": 41
        }
      ]
    },
    {
      "cell_type": "code",
      "metadata": {
        "id": "lcjWpqoRZ7N-",
        "colab": {
          "base_uri": "https://localhost:8080/",
          "height": 442
        },
        "outputId": "1d6ce456-4533-415b-85c9-f13e57bcde33"
      },
      "source": [
        "# We check for common support in the distributions, plotting histograms for the probabilities of\n",
        "# both groups who signed up for the wine club and those who did not,\n",
        "# each with an opacity of 0.5 to visually compare their overlap.\n",
        "df.loc[df.wine_club_signup==1]['probabilities'].hist( alpha=0.5)\n",
        "df.loc[df.wine_club_signup==0]['probabilities'].hist(alpha=0.5)"
      ],
      "execution_count": 44,
      "outputs": [
        {
          "output_type": "execute_result",
          "data": {
            "text/plain": [
              "<Axes: >"
            ]
          },
          "metadata": {},
          "execution_count": 44
        },
        {
          "output_type": "display_data",
          "data": {
            "text/plain": [
              "<Figure size 640x480 with 1 Axes>"
            ],
            "image/png": "[encoded data removed]"
          },
          "metadata": {}
        }
      ]
    },
    {
      "cell_type": "code",
      "metadata": {
        "id": "0T2UPwa8aAp9"
      },
      "source": [
        "# KNeighborsRegressor for finding matches. Separating observations of signed up and not signed up\n",
        "wine_club_signups = df.loc[(df.wine_club_signup==1)]\n",
        "nowine_club_signups = df.loc[(df.wine_club_signup==0)]\n",
        "\n",
        "modelo_no_wine_club_signups = KNeighborsRegressor(n_neighbors=1).fit(nowine_club_signups['probabilities'].values.reshape(-1, 1), nowine_club_signups.premium_wine_interest)"
      ],
      "execution_count": 45,
      "outputs": []
    },
    {
      "cell_type": "code",
      "source": [
        "# We ask the model to find the match for non-wine_club_signup (predict the corresponding non-wine_club_signup).\n",
        "# The matched data frame is then created by assigning each wine club signup a predicted match from non-signups based on their probabilities.\n",
        "# Finally, the average difference in premium wine interest between the wine club signups and their matched non-signups is calculated.\n",
        "\n",
        "df_matched=wine_club_signups.assign(matchnowine_club_signup=modelo_no_wine_club_signups.predict(wine_club_signups['probabilities'].values.reshape(-1, 1)))\n",
        "\n",
        "df_matched"
      ],
      "metadata": {
        "colab": {
          "base_uri": "https://localhost:8080/",
          "height": 444
        },
        "id": "fSqYuFmVFBh9",
        "outputId": "baab41a5-cf35-40db-d480-f83b8585db1a"
      },
      "execution_count": 46,
      "outputs": [
        {
          "output_type": "execute_result",
          "data": {
            "text/plain": [
              "     random_id  ad_exposure_wine_club  wine_club_signup  \\\n",
              "1            2                      1                 1   \n",
              "3            4                      1                 1   \n",
              "6            7                      1                 1   \n",
              "7            8                      0                 1   \n",
              "8            9                      1                 1   \n",
              "..         ...                    ...               ...   \n",
              "686        687                      0                 1   \n",
              "688        689                      1                 1   \n",
              "690        691                      1                 1   \n",
              "694        695                      1                 1   \n",
              "696        697                      1                 1   \n",
              "\n",
              "     digital_engagement_level  household_wine_spending  \\\n",
              "1                           1                     45.0   \n",
              "3                           1                     54.0   \n",
              "6                           1                     29.0   \n",
              "7                           1                     52.0   \n",
              "8                           1                     66.0   \n",
              "..                        ...                      ...   \n",
              "686                         1                     45.0   \n",
              "688                         1                     73.0   \n",
              "690                         2                     47.0   \n",
              "694                         1                     51.0   \n",
              "696                         1                     50.0   \n",
              "\n",
              "     wine_preference_diversity  previous_wine_purchase_online  \\\n",
              "1                          0.0                            0.0   \n",
              "3                          1.0                            1.0   \n",
              "6                          1.0                            1.0   \n",
              "7                          1.0                            1.0   \n",
              "8                          0.0                            0.0   \n",
              "..                         ...                            ...   \n",
              "686                        0.0                            0.0   \n",
              "688                        1.0                            1.0   \n",
              "690                        0.0                            0.0   \n",
              "694                        1.0                            1.0   \n",
              "696                        1.0                            1.0   \n",
              "\n",
              "     premium_wine_interest  ddigital_engagement_level  probabilities  \\\n",
              "1                    57.14                          1       0.480581   \n",
              "3                    85.71                          1       0.429416   \n",
              "6                    56.34                          1       0.480480   \n",
              "7                    71.43                          1       0.433460   \n",
              "8                     9.55                          1       0.437613   \n",
              "..                     ...                        ...            ...   \n",
              "686                  71.43                          1       0.480581   \n",
              "688                  45.09                          1       0.391530   \n",
              "690                  62.46                          0       0.394495   \n",
              "694                  71.43                          1       0.435486   \n",
              "696                  57.14                          1       0.437514   \n",
              "\n",
              "     matchnowine_club_signup  \n",
              "1                      85.40  \n",
              "3                      85.71  \n",
              "6                      52.46  \n",
              "7                      36.30  \n",
              "8                      61.72  \n",
              "..                       ...  \n",
              "686                    85.40  \n",
              "688                    26.87  \n",
              "690                    33.16  \n",
              "694                    71.43  \n",
              "696                    85.71  \n",
              "\n",
              "[291 rows x 11 columns]"
            ],
            "text/html": [
              "\n",
              "  <div id=\"df-998e0093-b164-4569-971b-f6496d91be19\" class=\"colab-df-container\">\n",
              "    <div>\n",
              "<style scoped>\n",
              "    .dataframe tbody tr th:only-of-type {\n",
              "        vertical-align: middle;\n",
              "    }\n",
              "\n",
              "    .dataframe tbody tr th {\n",
              "        vertical-align: top;\n",
              "    }\n",
              "\n",
              "    .dataframe thead th {\n",
              "        text-align: right;\n",
              "    }\n",
              "</style>\n",
              "<table border=\"1\" class=\"dataframe\">\n",
              "  <thead>\n",
              "    <tr style=\"text-align: right;\">\n",
              "      <th></th>\n",
              "      <th>random_id</th>\n",
              "      <th>ad_exposure_wine_club</th>\n",
              "      <th>wine_club_signup</th>\n",
              "      <th>digital_engagement_level</th>\n",
              "      <th>household_wine_spending</th>\n",
              "      <th>wine_preference_diversity</th>\n",
              "      <th>previous_wine_purchase_online</th>\n",
              "      <th>premium_wine_interest</th>\n",
              "      <th>ddigital_engagement_level</th>\n",
              "      <th>probabilities</th>\n",
              "      <th>matchnowine_club_signup</th>\n",
              "    </tr>\n",
              "  </thead>\n",
              "  <tbody>\n",
              "    <tr>\n",
              "      <th>1</th>\n",
              "      <td>2</td>\n",
              "      <td>1</td>\n",
              "      <td>1</td>\n",
              "      <td>1</td>\n",
              "      <td>45.0</td>\n",
              "      <td>0.0</td>\n",
              "      <td>0.0</td>\n",
              "      <td>57.14</td>\n",
              "      <td>1</td>\n",
              "      <td>0.480581</td>\n",
              "      <td>85.40</td>\n",
              "    </tr>\n",
              "    <tr>\n",
              "      <th>3</th>\n",
              "      <td>4</td>\n",
              "      <td>1</td>\n",
              "      <td>1</td>\n",
              "      <td>1</td>\n",
              "      <td>54.0</td>\n",
              "      <td>1.0</td>\n",
              "      <td>1.0</td>\n",
              "      <td>85.71</td>\n",
              "      <td>1</td>\n",
              "      <td>0.429416</td>\n",
              "      <td>85.71</td>\n",
              "    </tr>\n",
              "    <tr>\n",
              "      <th>6</th>\n",
              "      <td>7</td>\n",
              "      <td>1</td>\n",
              "      <td>1</td>\n",
              "      <td>1</td>\n",
              "      <td>29.0</td>\n",
              "      <td>1.0</td>\n",
              "      <td>1.0</td>\n",
              "      <td>56.34</td>\n",
              "      <td>1</td>\n",
              "      <td>0.480480</td>\n",
              "      <td>52.46</td>\n",
              "    </tr>\n",
              "    <tr>\n",
              "      <th>7</th>\n",
              "      <td>8</td>\n",
              "      <td>0</td>\n",
              "      <td>1</td>\n",
              "      <td>1</td>\n",
              "      <td>52.0</td>\n",
              "      <td>1.0</td>\n",
              "      <td>1.0</td>\n",
              "      <td>71.43</td>\n",
              "      <td>1</td>\n",
              "      <td>0.433460</td>\n",
              "      <td>36.30</td>\n",
              "    </tr>\n",
              "    <tr>\n",
              "      <th>8</th>\n",
              "      <td>9</td>\n",
              "      <td>1</td>\n",
              "      <td>1</td>\n",
              "      <td>1</td>\n",
              "      <td>66.0</td>\n",
              "      <td>0.0</td>\n",
              "      <td>0.0</td>\n",
              "      <td>9.55</td>\n",
              "      <td>1</td>\n",
              "      <td>0.437613</td>\n",
              "      <td>61.72</td>\n",
              "    </tr>\n",
              "    <tr>\n",
              "      <th>...</th>\n",
              "      <td>...</td>\n",
              "      <td>...</td>\n",
              "      <td>...</td>\n",
              "      <td>...</td>\n",
              "      <td>...</td>\n",
              "      <td>...</td>\n",
              "      <td>...</td>\n",
              "      <td>...</td>\n",
              "      <td>...</td>\n",
              "      <td>...</td>\n",
              "      <td>...</td>\n",
              "    </tr>\n",
              "    <tr>\n",
              "      <th>686</th>\n",
              "      <td>687</td>\n",
              "      <td>0</td>\n",
              "      <td>1</td>\n",
              "      <td>1</td>\n",
              "      <td>45.0</td>\n",
              "      <td>0.0</td>\n",
              "      <td>0.0</td>\n",
              "      <td>71.43</td>\n",
              "      <td>1</td>\n",
              "      <td>0.480581</td>\n",
              "      <td>85.40</td>\n",
              "    </tr>\n",
              "    <tr>\n",
              "      <th>688</th>\n",
              "      <td>689</td>\n",
              "      <td>1</td>\n",
              "      <td>1</td>\n",
              "      <td>1</td>\n",
              "      <td>73.0</td>\n",
              "      <td>1.0</td>\n",
              "      <td>1.0</td>\n",
              "      <td>45.09</td>\n",
              "      <td>1</td>\n",
              "      <td>0.391530</td>\n",
              "      <td>26.87</td>\n",
              "    </tr>\n",
              "    <tr>\n",
              "      <th>690</th>\n",
              "      <td>691</td>\n",
              "      <td>1</td>\n",
              "      <td>1</td>\n",
              "      <td>2</td>\n",
              "      <td>47.0</td>\n",
              "      <td>0.0</td>\n",
              "      <td>0.0</td>\n",
              "      <td>62.46</td>\n",
              "      <td>0</td>\n",
              "      <td>0.394495</td>\n",
              "      <td>33.16</td>\n",
              "    </tr>\n",
              "    <tr>\n",
              "      <th>694</th>\n",
              "      <td>695</td>\n",
              "      <td>1</td>\n",
              "      <td>1</td>\n",
              "      <td>1</td>\n",
              "      <td>51.0</td>\n",
              "      <td>1.0</td>\n",
              "      <td>1.0</td>\n",
              "      <td>71.43</td>\n",
              "      <td>1</td>\n",
              "      <td>0.435486</td>\n",
              "      <td>71.43</td>\n",
              "    </tr>\n",
              "    <tr>\n",
              "      <th>696</th>\n",
              "      <td>697</td>\n",
              "      <td>1</td>\n",
              "      <td>1</td>\n",
              "      <td>1</td>\n",
              "      <td>50.0</td>\n",
              "      <td>1.0</td>\n",
              "      <td>1.0</td>\n",
              "      <td>57.14</td>\n",
              "      <td>1</td>\n",
              "      <td>0.437514</td>\n",
              "      <td>85.71</td>\n",
              "    </tr>\n",
              "  </tbody>\n",
              "</table>\n",
              "<p>291 rows × 11 columns</p>\n",
              "</div>\n",
              "    <div class=\"colab-df-buttons\">\n",
              "\n",
              "  <div class=\"colab-df-container\">\n",
              "    <button class=\"colab-df-convert\" onclick=\"convertToInteractive('df-998e0093-b164-4569-971b-f6496d91be19')\"\n",
              "            title=\"Convert this dataframe to an interactive table.\"\n",
              "            style=\"display:none;\">\n",
              "\n",
              "  <svg xmlns=\"http://www.w3.org/2000/svg\" height=\"24px\" viewBox=\"0 -960 960 960\">\n",
              "    <path d=\"M120-120v-720h720v720H120Zm60-500h600v-160H180v160Zm220 220h160v-160H400v160Zm0 220h160v-160H400v160ZM180-400h160v-160H180v160Zm440 0h160v-160H620v160ZM180-180h160v-160H180v160Zm440 0h160v-160H620v160Z\"/>\n",
              "  </svg>\n",
              "    </button>\n",
              "\n",
              "  <style>\n",
              "    .colab-df-container {\n",
              "      display:flex;\n",
              "      gap: 12px;\n",
              "    }\n",
              "\n",
              "    .colab-df-convert {\n",
              "      background-color: #E8F0FE;\n",
              "      border: none;\n",
              "      border-radius: 50%;\n",
              "      cursor: pointer;\n",
              "      display: none;\n",
              "      fill: #1967D2;\n",
              "      height: 32px;\n",
              "      padding: 0 0 0 0;\n",
              "      width: 32px;\n",
              "    }\n",
              "\n",
              "    .colab-df-convert:hover {\n",
              "      background-color: #E2EBFA;\n",
              "      box-shadow: 0px 1px 2px rgba(60, 64, 67, 0.3), 0px 1px 3px 1px rgba(60, 64, 67, 0.15);\n",
              "      fill: #174EA6;\n",
              "    }\n",
              "\n",
              "    .colab-df-buttons div {\n",
              "      margin-bottom: 4px;\n",
              "    }\n",
              "\n",
              "    [theme=dark] .colab-df-convert {\n",
              "      background-color: #3B4455;\n",
              "      fill: #D2E3FC;\n",
              "    }\n",
              "\n",
              "    [theme=dark] .colab-df-convert:hover {\n",
              "      background-color: #434B5C;\n",
              "      box-shadow: 0px 1px 3px 1px rgba(0, 0, 0, 0.15);\n",
              "      filter: drop-shadow(0px 1px 2px rgba(0, 0, 0, 0.3));\n",
              "      fill: #FFFFFF;\n",
              "    }\n",
              "  </style>\n",
              "\n",
              "    <script>\n",
              "      const buttonEl =\n",
              "        document.querySelector('#df-998e0093-b164-4569-971b-f6496d91be19 button.colab-df-convert');\n",
              "      buttonEl.style.display =\n",
              "        google.colab.kernel.accessAllowed ? 'block' : 'none';\n",
              "\n",
              "      async function convertToInteractive(key) {\n",
              "        const element = document.querySelector('#df-998e0093-b164-4569-971b-f6496d91be19');\n",
              "        const dataTable =\n",
              "          await google.colab.kernel.invokeFunction('convertToInteractive',\n",
              "                                                    [key], {});\n",
              "        if (!dataTable) return;\n",
              "\n",
              "        const docLinkHtml = 'Like what you see? Visit the ' +\n",
              "          '<a target=\"_blank\" href=https://colab.research.google.com/notebooks/data_table.ipynb>data table notebook</a>'\n",
              "          + ' to learn more about interactive tables.';\n",
              "        element.innerHTML = '';\n",
              "        dataTable['output_type'] = 'display_data';\n",
              "        await google.colab.output.renderOutput(dataTable, element);\n",
              "        const docLink = document.createElement('div');\n",
              "        docLink.innerHTML = docLinkHtml;\n",
              "        element.appendChild(docLink);\n",
              "      }\n",
              "    </script>\n",
              "  </div>\n",
              "\n",
              "\n",
              "<div id=\"df-0b035531-d835-43e8-8b06-e257a31ec574\">\n",
              "  <button class=\"colab-df-quickchart\" onclick=\"quickchart('df-0b035531-d835-43e8-8b06-e257a31ec574')\"\n",
              "            title=\"Suggest charts\"\n",
              "            style=\"display:none;\">\n",
              "\n",
              "<svg xmlns=\"http://www.w3.org/2000/svg\" height=\"24px\"viewBox=\"0 0 24 24\"\n",
              "     width=\"24px\">\n",
              "    <g>\n",
              "        <path d=\"M19 3H5c-1.1 0-2 .9-2 2v14c0 1.1.9 2 2 2h14c1.1 0 2-.9 2-2V5c0-1.1-.9-2-2-2zM9 17H7v-7h2v7zm4 0h-2V7h2v10zm4 0h-2v-4h2v4z\"/>\n",
              "    </g>\n",
              "</svg>\n",
              "  </button>\n",
              "\n",
              "<style>\n",
              "  .colab-df-quickchart {\n",
              "      --bg-color: #E8F0FE;\n",
              "      --fill-color: #1967D2;\n",
              "      --hover-bg-color: #E2EBFA;\n",
              "      --hover-fill-color: #174EA6;\n",
              "      --disabled-fill-color: #AAA;\n",
              "      --disabled-bg-color: #DDD;\n",
              "  }\n",
              "\n",
              "  [theme=dark] .colab-df-quickchart {\n",
              "      --bg-color: #3B4455;\n",
              "      --fill-color: #D2E3FC;\n",
              "      --hover-bg-color: #434B5C;\n",
              "      --hover-fill-color: #FFFFFF;\n",
              "      --disabled-bg-color: #3B4455;\n",
              "      --disabled-fill-color: #666;\n",
              "  }\n",
              "\n",
              "  .colab-df-quickchart {\n",
              "    background-color: var(--bg-color);\n",
              "    border: none;\n",
              "    border-radius: 50%;\n",
              "    cursor: pointer;\n",
              "    display: none;\n",
              "    fill: var(--fill-color);\n",
              "    height: 32px;\n",
              "    padding: 0;\n",
              "    width: 32px;\n",
              "  }\n",
              "\n",
              "  .colab-df-quickchart:hover {\n",
              "    background-color: var(--hover-bg-color);\n",
              "    box-shadow: 0 1px 2px rgba(60, 64, 67, 0.3), 0 1px 3px 1px rgba(60, 64, 67, 0.15);\n",
              "    fill: var(--button-hover-fill-color);\n",
              "  }\n",
              "\n",
              "  .colab-df-quickchart-complete:disabled,\n",
              "  .colab-df-quickchart-complete:disabled:hover {\n",
              "    background-color: var(--disabled-bg-color);\n",
              "    fill: var(--disabled-fill-color);\n",
              "    box-shadow: none;\n",
              "  }\n",
              "\n",
              "  .colab-df-spinner {\n",
              "    border: 2px solid var(--fill-color);\n",
              "    border-color: transparent;\n",
              "    border-bottom-color: var(--fill-color);\n",
              "    animation:\n",
              "      spin 1s steps(1) infinite;\n",
              "  }\n",
              "\n",
              "  @keyframes spin {\n",
              "    0% {\n",
              "      border-color: transparent;\n",
              "      border-bottom-color: var(--fill-color);\n",
              "      border-left-color: var(--fill-color);\n",
              "    }\n",
              "    20% {\n",
              "      border-color: transparent;\n",
              "      border-left-color: var(--fill-color);\n",
              "      border-top-color: var(--fill-color);\n",
              "    }\n",
              "    30% {\n",
              "      border-color: transparent;\n",
              "      border-left-color: var(--fill-color);\n",
              "      border-top-color: var(--fill-color);\n",
              "      border-right-color: var(--fill-color);\n",
              "    }\n",
              "    40% {\n",
              "      border-color: transparent;\n",
              "      border-right-color: var(--fill-color);\n",
              "      border-top-color: var(--fill-color);\n",
              "    }\n",
              "    60% {\n",
              "      border-color: transparent;\n",
              "      border-right-color: var(--fill-color);\n",
              "    }\n",
              "    80% {\n",
              "      border-color: transparent;\n",
              "      border-right-color: var(--fill-color);\n",
              "      border-bottom-color: var(--fill-color);\n",
              "    }\n",
              "    90% {\n",
              "      border-color: transparent;\n",
              "      border-bottom-color: var(--fill-color);\n",
              "    }\n",
              "  }\n",
              "</style>\n",
              "\n",
              "  <script>\n",
              "    async function quickchart(key) {\n",
              "      const quickchartButtonEl =\n",
              "        document.querySelector('#' + key + ' button');\n",
              "      quickchartButtonEl.disabled = true;  // To prevent multiple clicks.\n",
              "      quickchartButtonEl.classList.add('colab-df-spinner');\n",
              "      try {\n",
              "        const charts = await google.colab.kernel.invokeFunction(\n",
              "            'suggestCharts', [key], {});\n",
              "      } catch (error) {\n",
              "        console.error('Error during call to suggestCharts:', error);\n",
              "      }\n",
              "      quickchartButtonEl.classList.remove('colab-df-spinner');\n",
              "      quickchartButtonEl.classList.add('colab-df-quickchart-complete');\n",
              "    }\n",
              "    (() => {\n",
              "      let quickchartButtonEl =\n",
              "        document.querySelector('#df-0b035531-d835-43e8-8b06-e257a31ec574 button');\n",
              "      quickchartButtonEl.style.display =\n",
              "        google.colab.kernel.accessAllowed ? 'block' : 'none';\n",
              "    })();\n",
              "  </script>\n",
              "</div>\n",
              "    </div>\n",
              "  </div>\n"
            ]
          },
          "metadata": {},
          "execution_count": 46
        }
      ]
    },
    {
      "cell_type": "code",
      "metadata": {
        "id": "txOKd9qWaaw1",
        "colab": {
          "base_uri": "https://localhost:8080/"
        },
        "outputId": "ee7f71fa-089a-4b0b-9e64-6620eea573d9"
      },
      "source": [
        "np.mean(df_matched.premium_wine_interest-df_matched.matchnowine_club_signup)"
      ],
      "execution_count": 47,
      "outputs": [
        {
          "output_type": "execute_result",
          "data": {
            "text/plain": [
              "-6.504467353951891"
            ]
          },
          "metadata": {},
          "execution_count": 47
        }
      ]
    },
    {
      "cell_type": "markdown",
      "metadata": {
        "id": "zaC3ljDBdThX"
      },
      "source": [
        "## Using the Causal Inference library\n"
      ]
    },
    {
      "cell_type": "code",
      "metadata": {
        "id": "FqfiPgEfZl5a"
      },
      "source": [
        "X=['ddigital_engagement_level', 'household_wine_spending', 'wine_preference_diversity', 'previous_wine_purchase_online']"
      ],
      "execution_count": 48,
      "outputs": []
    },
    {
      "cell_type": "code",
      "metadata": {
        "id": "T4A0WJT6SOPI",
        "colab": {
          "base_uri": "https://localhost:8080/"
        },
        "outputId": "6e3ecdb1-1855-422a-fa94-718e945adf9e"
      },
      "source": [
        "cm = CausalModel( Y=df[\"premium_wine_interest\"].values,  D=df[\"wine_club_signup\"].values,  X=df[X].values )\n",
        "\n",
        "cm.est_via_matching(matches=1, bias_adj=True)\n",
        "\n",
        "print(cm.estimates)\n",
        "cm.reset()"
      ],
      "execution_count": 49,
      "outputs": [
        {
          "output_type": "stream",
          "name": "stdout",
          "text": [
            "\n",
            "Treatment Effect Estimates: Matching\n",
            "\n",
            "                     Est.       S.e.          z      P>|z|      [95% Conf. int.]\n",
            "--------------------------------------------------------------------------------\n",
            "           ATE      2.610      2.825      0.924      0.356     -2.927      8.147\n",
            "           ATC      3.356      3.053      1.099      0.272     -2.629      9.340\n",
            "           ATT      1.613      3.041      0.530      0.596     -4.348      7.573\n",
            "\n"
          ]
        },
        {
          "output_type": "stream",
          "name": "stderr",
          "text": [
            "/usr/local/lib/python3.10/dist-packages/causalinference/estimators/matching.py:100: FutureWarning: `rcond` parameter will change to the default of machine precision times ``max(M, N)`` where M and N are the input matrix dimensions.\n",
            "To use the future default and silence this warning we advise to pass `rcond=None`, to keep using the old, explicitly pass `rcond=-1`.\n",
            "  return np.linalg.lstsq(X, Y)[0][1:]  # don't need intercept coef\n"
          ]
        }
      ]
    },
    {
      "cell_type": "markdown",
      "metadata": {
        "id": "WumzvmDXV6K4"
      },
      "source": [
        "## Propensity Score using Causal Model\n",
        "The output from running the CausalModel code includes estimated parameters of the propensity score and a stratification summary. The estimated parameters indicate the coefficients, standard errors, z-values, p-values, and confidence intervals for the intercept and variables X0 and X1, suggesting the influence of these variables on the likelihood of wine club signup. The stratification summary shows the propensity score ranges, sample sizes, average propensities, and raw differences in outcomes across strata, which helps in understanding the effect of wine club signup across different propensity score ranges."
      ]
    },
    {
      "cell_type": "code",
      "metadata": {
        "id": "aq45We3sTqTE",
        "colab": {
          "base_uri": "https://localhost:8080/"
        },
        "outputId": "a67f76e0-8134-4268-b365-3f49be64dfb4"
      },
      "source": [
        "causal = CausalModel(\n",
        "    Y=df[\"premium_wine_interest\"].values,\n",
        "    D=df[\"wine_club_signup\"].values,\n",
        "    X=df[X].values\n",
        ")\n",
        "causal.est_propensity_s()\n",
        "print(causal.propensity)\n",
        "causal.stratify_s()\n",
        "print(causal.strata)"
      ],
      "execution_count": 50,
      "outputs": [
        {
          "output_type": "stream",
          "name": "stdout",
          "text": [
            "\n",
            "Estimated Parameters of Propensity Score\n",
            "\n",
            "                    Coef.       S.e.          z      P>|z|      [95% Conf. int.]\n",
            "--------------------------------------------------------------------------------\n",
            "     Intercept     -0.134      0.355     -0.378      0.706     -0.830      0.562\n",
            "            X0      0.281      0.194      1.449      0.147     -0.099      0.661\n",
            "            X1     -0.007      0.006     -1.317      0.188     -0.018      0.004\n",
            "\n",
            "\n",
            "Stratification Summary\n",
            "\n",
            "              Propensity Score         Sample Size     Ave. Propensity   Outcome\n",
            "   Stratum      Min.      Max.  Controls   Treated  Controls   Treated  Raw-diff\n",
            "--------------------------------------------------------------------------------\n",
            "         1     0.299     0.404       112        66     0.367     0.374     4.215\n",
            "         2     0.406     0.441        92        79     0.425     0.427    -1.558\n",
            "         3     0.442     0.529       185       146     0.460     0.461    -0.809\n",
            "\n"
          ]
        },
        {
          "output_type": "stream",
          "name": "stderr",
          "text": [
            "/usr/local/lib/python3.10/dist-packages/causalinference/core/summary.py:110: RuntimeWarning: invalid value encountered in divide\n",
            "  return (mean_t-mean_c) / np.sqrt((sd_c**2+sd_t**2)/2)\n"
          ]
        }
      ]
    },
    {
      "cell_type": "markdown",
      "source": [
        "The estimated parameters indicate that the coefficients for the intercept and variables X0 and X1 do not significantly predict the likelihood of wine club signup, as suggested by their p-values. In the stratification summary, the propensity score ranges define three strata with varying control and treated group sizes. The raw differences in outcomes (premium wine interest) show variation across strata, with the first stratum showing a positive difference and the other two showing negative differences, indicating varied effects of wine club signup on premium wine interest across different propensity score groups.\n",
        "\n",
        "The results suggest that the impact of the wine club membership campaign on premium wine interest varies across different groups, without clear evidence of a significant overall effect. For the marketing team, this means that while the campaign may not have broadly influenced premium wine interest as hoped, there may be specific segments where the campaign was more effective. It could be worthwhile to analyze these segments more deeply to understand where the campaign resonated and consider tailoring future efforts to similar audiences or adjusting the campaign to better target or appeal to broader audiences."
      ],
      "metadata": {
        "id": "45dmKdzUGMXM"
      }
    }
  ]
}